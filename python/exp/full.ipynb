{
 "cells": [
  {
   "cell_type": "code",
   "execution_count": 2,
   "metadata": {},
   "outputs": [
    {
     "name": "stderr",
     "output_type": "stream",
     "text": [
      "2025-04-13 00:57:28,083 - INFO - Starting data scraping...\n"
     ]
    },
    {
     "data": {
      "application/vnd.jupyter.widget-view+json": {
       "model_id": "706bef6e3e2a44af9c60f2e934e996cb",
       "version_major": 2,
       "version_minor": 0
      },
      "text/plain": [
       "Scraping categories:   0%|          | 0/5 [00:00<?, ?it/s]"
      ]
     },
     "metadata": {},
     "output_type": "display_data"
    },
    {
     "data": {
      "application/vnd.jupyter.widget-view+json": {
       "model_id": "098e1129f0854f3d8a8e6b9e46d8b2d8",
       "version_major": 2,
       "version_minor": 0
      },
      "text/plain": [
       "Processing GAME_ACTION:   0%|          | 0/30 [00:00<?, ?it/s]"
      ]
     },
     "metadata": {},
     "output_type": "display_data"
    },
    {
     "data": {
      "application/vnd.jupyter.widget-view+json": {
       "model_id": "0496c122eb674c3ca0b07c4375fa6159",
       "version_major": 2,
       "version_minor": 0
      },
      "text/plain": [
       "Processing TRAVEL_AND_LOCAL:   0%|          | 0/30 [00:00<?, ?it/s]"
      ]
     },
     "metadata": {},
     "output_type": "display_data"
    },
    {
     "data": {
      "application/vnd.jupyter.widget-view+json": {
       "model_id": "77ed964b3ed14d6183b33679fa106969",
       "version_major": 2,
       "version_minor": 0
      },
      "text/plain": [
       "Processing SHOPPING:   0%|          | 0/24 [00:00<?, ?it/s]"
      ]
     },
     "metadata": {},
     "output_type": "display_data"
    },
    {
     "data": {
      "application/vnd.jupyter.widget-view+json": {
       "model_id": "530d5c7f748c4069b6c59e68d301c052",
       "version_major": 2,
       "version_minor": 0
      },
      "text/plain": [
       "Processing SOCIAL:   0%|          | 0/26 [00:00<?, ?it/s]"
      ]
     },
     "metadata": {},
     "output_type": "display_data"
    },
    {
     "data": {
      "application/vnd.jupyter.widget-view+json": {
       "model_id": "30cbfee17d7c4daca983346349d25d01",
       "version_major": 2,
       "version_minor": 0
      },
      "text/plain": [
       "Processing EDUCATION:   0%|          | 0/28 [00:00<?, ?it/s]"
      ]
     },
     "metadata": {},
     "output_type": "display_data"
    },
    {
     "name": "stderr",
     "output_type": "stream",
     "text": [
      "2025-04-13 00:59:21,166 - INFO - Total apps collected: 138\n",
      "2025-04-13 00:59:21,169 - INFO - Categories distribution:\n",
      "category\n",
      "GAME_ACTION         30\n",
      "TRAVEL_AND_LOCAL    30\n",
      "EDUCATION           28\n",
      "SOCIAL              26\n",
      "SHOPPING            24\n",
      "Name: count, dtype: int64\n",
      "2025-04-13 00:59:21,170 - INFO - Generating triplets...\n"
     ]
    },
    {
     "data": {
      "application/vnd.jupyter.widget-view+json": {
       "model_id": "3861dbb1a5ca470fa2817f85cea8c9a8",
       "version_major": 2,
       "version_minor": 0
      },
      "text/plain": [
       "Generating triplets:   0%|          | 0/5 [00:00<?, ?it/s]"
      ]
     },
     "metadata": {},
     "output_type": "display_data"
    },
    {
     "name": "stderr",
     "output_type": "stream",
     "text": [
      "2025-04-13 00:59:21,201 - INFO - Total triplets generated: 138\n",
      "2025-04-13 00:59:21,209 - INFO - Use pytorch device_name: cpu\n",
      "2025-04-13 00:59:21,210 - INFO - Load pretrained SentenceTransformer: ../model/all-MiniLM-L6-v2\n",
      "2025-04-13 00:59:21,211 - WARNING - No sentence-transformers model found with name ../model/all-MiniLM-L6-v2. Creating a new one with mean pooling.\n",
      "2025-04-13 00:59:21,537 - INFO - Use pytorch device_name: cpu\n",
      "2025-04-13 00:59:21,538 - INFO - Load pretrained SentenceTransformer: ../model/all-MiniLM-L6-v2\n",
      "2025-04-13 00:59:21,538 - WARNING - No sentence-transformers model found with name ../model/all-MiniLM-L6-v2. Creating a new one with mean pooling.\n",
      "2025-04-13 00:59:21,617 - INFO - Starting training...\n"
     ]
    },
    {
     "data": {
      "application/vnd.jupyter.widget-view+json": {
       "model_id": "fb34172133d6483289fe7226c1ddb957",
       "version_major": 2,
       "version_minor": 0
      },
      "text/plain": [
       "Computing widget examples:   0%|          | 0/1 [00:00<?, ?example/s]"
      ]
     },
     "metadata": {},
     "output_type": "display_data"
    },
    {
     "data": {
      "text/html": [
       "\n",
       "    <div>\n",
       "      \n",
       "      <progress value='24' max='24' style='width:300px; height:20px; vertical-align: middle;'></progress>\n",
       "      [24/24 00:12, Epoch 3/3]\n",
       "    </div>\n",
       "    <table border=\"1\" class=\"dataframe\">\n",
       "  <thead>\n",
       " <tr style=\"text-align: left;\">\n",
       "      <th>Step</th>\n",
       "      <th>Training Loss</th>\n",
       "    </tr>\n",
       "  </thead>\n",
       "  <tbody>\n",
       "  </tbody>\n",
       "</table><p>"
      ],
      "text/plain": [
       "<IPython.core.display.HTML object>"
      ]
     },
     "metadata": {},
     "output_type": "display_data"
    },
    {
     "name": "stderr",
     "output_type": "stream",
     "text": [
      "2025-04-13 00:59:36,628 - INFO - Save model to /Users/hissain/git/github/AndroidSemanticSearch/python/exp/model/fine-tuned-model\n",
      "2025-04-13 00:59:37,307 - INFO - Training completed\n",
      "2025-04-13 00:59:37,309 - INFO - Evaluating original model...\n"
     ]
    },
    {
     "data": {
      "application/vnd.jupyter.widget-view+json": {
       "model_id": "891083f7d4da46dbb6aac354d3e48ccc",
       "version_major": 2,
       "version_minor": 0
      },
      "text/plain": [
       "Evaluating:   0%|          | 0/14 [00:00<?, ?it/s]"
      ]
     },
     "metadata": {},
     "output_type": "display_data"
    },
    {
     "data": {
      "application/vnd.jupyter.widget-view+json": {
       "model_id": "5e6b3b304950474f8a440982348c36b3",
       "version_major": 2,
       "version_minor": 0
      },
      "text/plain": [
       "Batches:   0%|          | 0/1 [00:00<?, ?it/s]"
      ]
     },
     "metadata": {},
     "output_type": "display_data"
    },
    {
     "data": {
      "application/vnd.jupyter.widget-view+json": {
       "model_id": "67a08469188843ccb440b39f5d8ec540",
       "version_major": 2,
       "version_minor": 0
      },
      "text/plain": [
       "Batches:   0%|          | 0/1 [00:00<?, ?it/s]"
      ]
     },
     "metadata": {},
     "output_type": "display_data"
    },
    {
     "data": {
      "application/vnd.jupyter.widget-view+json": {
       "model_id": "f2ac987db3214046b5aa955988baf0c9",
       "version_major": 2,
       "version_minor": 0
      },
      "text/plain": [
       "Batches:   0%|          | 0/1 [00:00<?, ?it/s]"
      ]
     },
     "metadata": {},
     "output_type": "display_data"
    },
    {
     "data": {
      "application/vnd.jupyter.widget-view+json": {
       "model_id": "f4b48a045a254129bb3c9609bc4f0f50",
       "version_major": 2,
       "version_minor": 0
      },
      "text/plain": [
       "Batches:   0%|          | 0/1 [00:00<?, ?it/s]"
      ]
     },
     "metadata": {},
     "output_type": "display_data"
    },
    {
     "data": {
      "application/vnd.jupyter.widget-view+json": {
       "model_id": "be4ff6afafea4b009e45000ce8833160",
       "version_major": 2,
       "version_minor": 0
      },
      "text/plain": [
       "Batches:   0%|          | 0/1 [00:00<?, ?it/s]"
      ]
     },
     "metadata": {},
     "output_type": "display_data"
    },
    {
     "data": {
      "application/vnd.jupyter.widget-view+json": {
       "model_id": "2b6dbe11de8940a8a6f2f87344fb1d2f",
       "version_major": 2,
       "version_minor": 0
      },
      "text/plain": [
       "Batches:   0%|          | 0/1 [00:00<?, ?it/s]"
      ]
     },
     "metadata": {},
     "output_type": "display_data"
    },
    {
     "data": {
      "application/vnd.jupyter.widget-view+json": {
       "model_id": "3494f05036dc4882858b9979a40f19d0",
       "version_major": 2,
       "version_minor": 0
      },
      "text/plain": [
       "Batches:   0%|          | 0/1 [00:00<?, ?it/s]"
      ]
     },
     "metadata": {},
     "output_type": "display_data"
    },
    {
     "data": {
      "application/vnd.jupyter.widget-view+json": {
       "model_id": "d41d6c2834c14e69b126064185172c8e",
       "version_major": 2,
       "version_minor": 0
      },
      "text/plain": [
       "Batches:   0%|          | 0/1 [00:00<?, ?it/s]"
      ]
     },
     "metadata": {},
     "output_type": "display_data"
    },
    {
     "data": {
      "application/vnd.jupyter.widget-view+json": {
       "model_id": "0f907f89dade4e01887a79583a12563e",
       "version_major": 2,
       "version_minor": 0
      },
      "text/plain": [
       "Batches:   0%|          | 0/1 [00:00<?, ?it/s]"
      ]
     },
     "metadata": {},
     "output_type": "display_data"
    },
    {
     "data": {
      "application/vnd.jupyter.widget-view+json": {
       "model_id": "ffe325b8539742e8922d9ce00e26da54",
       "version_major": 2,
       "version_minor": 0
      },
      "text/plain": [
       "Batches:   0%|          | 0/1 [00:00<?, ?it/s]"
      ]
     },
     "metadata": {},
     "output_type": "display_data"
    },
    {
     "data": {
      "application/vnd.jupyter.widget-view+json": {
       "model_id": "4721ba7153cf4a7a8bdd132133302f65",
       "version_major": 2,
       "version_minor": 0
      },
      "text/plain": [
       "Batches:   0%|          | 0/1 [00:00<?, ?it/s]"
      ]
     },
     "metadata": {},
     "output_type": "display_data"
    },
    {
     "data": {
      "application/vnd.jupyter.widget-view+json": {
       "model_id": "da22a1fd912b45a29f5be015d69c8cdf",
       "version_major": 2,
       "version_minor": 0
      },
      "text/plain": [
       "Batches:   0%|          | 0/1 [00:00<?, ?it/s]"
      ]
     },
     "metadata": {},
     "output_type": "display_data"
    },
    {
     "data": {
      "application/vnd.jupyter.widget-view+json": {
       "model_id": "db538f8b85ba457dbe8a77a4a857f313",
       "version_major": 2,
       "version_minor": 0
      },
      "text/plain": [
       "Batches:   0%|          | 0/1 [00:00<?, ?it/s]"
      ]
     },
     "metadata": {},
     "output_type": "display_data"
    },
    {
     "data": {
      "application/vnd.jupyter.widget-view+json": {
       "model_id": "b2d817d9791b48a9920cb8dd371cf1fe",
       "version_major": 2,
       "version_minor": 0
      },
      "text/plain": [
       "Batches:   0%|          | 0/1 [00:00<?, ?it/s]"
      ]
     },
     "metadata": {},
     "output_type": "display_data"
    },
    {
     "data": {
      "application/vnd.jupyter.widget-view+json": {
       "model_id": "eebbf548dada40708afca77ac50d175a",
       "version_major": 2,
       "version_minor": 0
      },
      "text/plain": [
       "Batches:   0%|          | 0/1 [00:00<?, ?it/s]"
      ]
     },
     "metadata": {},
     "output_type": "display_data"
    },
    {
     "data": {
      "application/vnd.jupyter.widget-view+json": {
       "model_id": "32266f3d5d20494498938a9a668bd3f1",
       "version_major": 2,
       "version_minor": 0
      },
      "text/plain": [
       "Batches:   0%|          | 0/1 [00:00<?, ?it/s]"
      ]
     },
     "metadata": {},
     "output_type": "display_data"
    },
    {
     "data": {
      "application/vnd.jupyter.widget-view+json": {
       "model_id": "158e5b207ce841ef8a9699c774d05f12",
       "version_major": 2,
       "version_minor": 0
      },
      "text/plain": [
       "Batches:   0%|          | 0/1 [00:00<?, ?it/s]"
      ]
     },
     "metadata": {},
     "output_type": "display_data"
    },
    {
     "data": {
      "application/vnd.jupyter.widget-view+json": {
       "model_id": "fc42fc52b31c42e2a1f03da5d2fa38ed",
       "version_major": 2,
       "version_minor": 0
      },
      "text/plain": [
       "Batches:   0%|          | 0/1 [00:00<?, ?it/s]"
      ]
     },
     "metadata": {},
     "output_type": "display_data"
    },
    {
     "data": {
      "application/vnd.jupyter.widget-view+json": {
       "model_id": "5f69c255a3bf42f68222a7e6587fe656",
       "version_major": 2,
       "version_minor": 0
      },
      "text/plain": [
       "Batches:   0%|          | 0/1 [00:00<?, ?it/s]"
      ]
     },
     "metadata": {},
     "output_type": "display_data"
    },
    {
     "data": {
      "application/vnd.jupyter.widget-view+json": {
       "model_id": "7e74b39f80b344c18e5272712c71a5d7",
       "version_major": 2,
       "version_minor": 0
      },
      "text/plain": [
       "Batches:   0%|          | 0/1 [00:00<?, ?it/s]"
      ]
     },
     "metadata": {},
     "output_type": "display_data"
    },
    {
     "data": {
      "application/vnd.jupyter.widget-view+json": {
       "model_id": "75bd0a5608884c5f932bc069c51c8148",
       "version_major": 2,
       "version_minor": 0
      },
      "text/plain": [
       "Batches:   0%|          | 0/1 [00:00<?, ?it/s]"
      ]
     },
     "metadata": {},
     "output_type": "display_data"
    },
    {
     "data": {
      "application/vnd.jupyter.widget-view+json": {
       "model_id": "dbe9ece2e444461ba7f4afce75c6d062",
       "version_major": 2,
       "version_minor": 0
      },
      "text/plain": [
       "Batches:   0%|          | 0/1 [00:00<?, ?it/s]"
      ]
     },
     "metadata": {},
     "output_type": "display_data"
    },
    {
     "data": {
      "application/vnd.jupyter.widget-view+json": {
       "model_id": "9a6cd7c511cd4d94bbec6d7a005826f2",
       "version_major": 2,
       "version_minor": 0
      },
      "text/plain": [
       "Batches:   0%|          | 0/1 [00:00<?, ?it/s]"
      ]
     },
     "metadata": {},
     "output_type": "display_data"
    },
    {
     "data": {
      "application/vnd.jupyter.widget-view+json": {
       "model_id": "e507a56abeeb4d489caa6781c622d8af",
       "version_major": 2,
       "version_minor": 0
      },
      "text/plain": [
       "Batches:   0%|          | 0/1 [00:00<?, ?it/s]"
      ]
     },
     "metadata": {},
     "output_type": "display_data"
    },
    {
     "data": {
      "application/vnd.jupyter.widget-view+json": {
       "model_id": "b8a4ffc5c1794ade8decffd11dbe8fe3",
       "version_major": 2,
       "version_minor": 0
      },
      "text/plain": [
       "Batches:   0%|          | 0/1 [00:00<?, ?it/s]"
      ]
     },
     "metadata": {},
     "output_type": "display_data"
    },
    {
     "data": {
      "application/vnd.jupyter.widget-view+json": {
       "model_id": "8d6116d4ec1741b7a08850cf96bbb810",
       "version_major": 2,
       "version_minor": 0
      },
      "text/plain": [
       "Batches:   0%|          | 0/1 [00:00<?, ?it/s]"
      ]
     },
     "metadata": {},
     "output_type": "display_data"
    },
    {
     "data": {
      "application/vnd.jupyter.widget-view+json": {
       "model_id": "3d4c749820a741a09330b15ea2939d4c",
       "version_major": 2,
       "version_minor": 0
      },
      "text/plain": [
       "Batches:   0%|          | 0/1 [00:00<?, ?it/s]"
      ]
     },
     "metadata": {},
     "output_type": "display_data"
    },
    {
     "data": {
      "application/vnd.jupyter.widget-view+json": {
       "model_id": "21d251a06d4f4d7daa95718844d03c70",
       "version_major": 2,
       "version_minor": 0
      },
      "text/plain": [
       "Batches:   0%|          | 0/1 [00:00<?, ?it/s]"
      ]
     },
     "metadata": {},
     "output_type": "display_data"
    },
    {
     "data": {
      "application/vnd.jupyter.widget-view+json": {
       "model_id": "259e4f3389ce4b449582cf6ec53b395f",
       "version_major": 2,
       "version_minor": 0
      },
      "text/plain": [
       "Batches:   0%|          | 0/1 [00:00<?, ?it/s]"
      ]
     },
     "metadata": {},
     "output_type": "display_data"
    },
    {
     "data": {
      "application/vnd.jupyter.widget-view+json": {
       "model_id": "e5c41538b3824373963f8f6d4501fb48",
       "version_major": 2,
       "version_minor": 0
      },
      "text/plain": [
       "Batches:   0%|          | 0/1 [00:00<?, ?it/s]"
      ]
     },
     "metadata": {},
     "output_type": "display_data"
    },
    {
     "data": {
      "application/vnd.jupyter.widget-view+json": {
       "model_id": "35b20c4c004e495eac4c2b6ae24cd106",
       "version_major": 2,
       "version_minor": 0
      },
      "text/plain": [
       "Batches:   0%|          | 0/1 [00:00<?, ?it/s]"
      ]
     },
     "metadata": {},
     "output_type": "display_data"
    },
    {
     "data": {
      "application/vnd.jupyter.widget-view+json": {
       "model_id": "347d9cf21ff54cd7bb906935567ce269",
       "version_major": 2,
       "version_minor": 0
      },
      "text/plain": [
       "Batches:   0%|          | 0/1 [00:00<?, ?it/s]"
      ]
     },
     "metadata": {},
     "output_type": "display_data"
    },
    {
     "data": {
      "application/vnd.jupyter.widget-view+json": {
       "model_id": "a0e48392367d43b5ad36ea168b30727f",
       "version_major": 2,
       "version_minor": 0
      },
      "text/plain": [
       "Batches:   0%|          | 0/1 [00:00<?, ?it/s]"
      ]
     },
     "metadata": {},
     "output_type": "display_data"
    },
    {
     "data": {
      "application/vnd.jupyter.widget-view+json": {
       "model_id": "95a2dc8688df416d9447a0cb43b90ea1",
       "version_major": 2,
       "version_minor": 0
      },
      "text/plain": [
       "Batches:   0%|          | 0/1 [00:00<?, ?it/s]"
      ]
     },
     "metadata": {},
     "output_type": "display_data"
    },
    {
     "data": {
      "application/vnd.jupyter.widget-view+json": {
       "model_id": "6924b9ecc5dc4ba0b609d0377d4276de",
       "version_major": 2,
       "version_minor": 0
      },
      "text/plain": [
       "Batches:   0%|          | 0/1 [00:00<?, ?it/s]"
      ]
     },
     "metadata": {},
     "output_type": "display_data"
    },
    {
     "data": {
      "application/vnd.jupyter.widget-view+json": {
       "model_id": "13297f338b0249b2a0a5acfafd99da14",
       "version_major": 2,
       "version_minor": 0
      },
      "text/plain": [
       "Batches:   0%|          | 0/1 [00:00<?, ?it/s]"
      ]
     },
     "metadata": {},
     "output_type": "display_data"
    },
    {
     "data": {
      "application/vnd.jupyter.widget-view+json": {
       "model_id": "5bef6cb9227e43788bfd9a7b4db836d0",
       "version_major": 2,
       "version_minor": 0
      },
      "text/plain": [
       "Batches:   0%|          | 0/1 [00:00<?, ?it/s]"
      ]
     },
     "metadata": {},
     "output_type": "display_data"
    },
    {
     "data": {
      "application/vnd.jupyter.widget-view+json": {
       "model_id": "2b69d053a47d4b31a1acf8477705d45f",
       "version_major": 2,
       "version_minor": 0
      },
      "text/plain": [
       "Batches:   0%|          | 0/1 [00:00<?, ?it/s]"
      ]
     },
     "metadata": {},
     "output_type": "display_data"
    },
    {
     "data": {
      "application/vnd.jupyter.widget-view+json": {
       "model_id": "40f8314c99b14d0dac281e029020fa21",
       "version_major": 2,
       "version_minor": 0
      },
      "text/plain": [
       "Batches:   0%|          | 0/1 [00:00<?, ?it/s]"
      ]
     },
     "metadata": {},
     "output_type": "display_data"
    },
    {
     "data": {
      "application/vnd.jupyter.widget-view+json": {
       "model_id": "d1a6867597ab4d94b88813bd064a60d5",
       "version_major": 2,
       "version_minor": 0
      },
      "text/plain": [
       "Batches:   0%|          | 0/1 [00:00<?, ?it/s]"
      ]
     },
     "metadata": {},
     "output_type": "display_data"
    },
    {
     "data": {
      "application/vnd.jupyter.widget-view+json": {
       "model_id": "883180c0689642dba2f375875f0327ad",
       "version_major": 2,
       "version_minor": 0
      },
      "text/plain": [
       "Batches:   0%|          | 0/1 [00:00<?, ?it/s]"
      ]
     },
     "metadata": {},
     "output_type": "display_data"
    },
    {
     "data": {
      "application/vnd.jupyter.widget-view+json": {
       "model_id": "69ed2f06bc944c7ea002daed9272e79b",
       "version_major": 2,
       "version_minor": 0
      },
      "text/plain": [
       "Batches:   0%|          | 0/1 [00:00<?, ?it/s]"
      ]
     },
     "metadata": {},
     "output_type": "display_data"
    },
    {
     "name": "stderr",
     "output_type": "stream",
     "text": [
      "2025-04-13 00:59:39,583 - INFO - Original model results:\n",
      "2025-04-13 00:59:39,584 - INFO - Avg positive similarity: 0.3849\n",
      "2025-04-13 00:59:39,585 - INFO - Avg negative similarity: 0.1158\n",
      "2025-04-13 00:59:39,586 - INFO - Margin: 0.2692\n",
      "2025-04-13 00:59:39,587 - INFO - Evaluating fine-tuned model...\n"
     ]
    },
    {
     "data": {
      "application/vnd.jupyter.widget-view+json": {
       "model_id": "aa8517eac57246ea8daeec0449995ec9",
       "version_major": 2,
       "version_minor": 0
      },
      "text/plain": [
       "Evaluating:   0%|          | 0/14 [00:00<?, ?it/s]"
      ]
     },
     "metadata": {},
     "output_type": "display_data"
    },
    {
     "data": {
      "application/vnd.jupyter.widget-view+json": {
       "model_id": "0f15ecf972d14d9095921706faac8c7e",
       "version_major": 2,
       "version_minor": 0
      },
      "text/plain": [
       "Batches:   0%|          | 0/1 [00:00<?, ?it/s]"
      ]
     },
     "metadata": {},
     "output_type": "display_data"
    },
    {
     "data": {
      "application/vnd.jupyter.widget-view+json": {
       "model_id": "89961c59d9a7476c991fdfa69e29f1bf",
       "version_major": 2,
       "version_minor": 0
      },
      "text/plain": [
       "Batches:   0%|          | 0/1 [00:00<?, ?it/s]"
      ]
     },
     "metadata": {},
     "output_type": "display_data"
    },
    {
     "data": {
      "application/vnd.jupyter.widget-view+json": {
       "model_id": "7e5b90f316a34121a836663323e73650",
       "version_major": 2,
       "version_minor": 0
      },
      "text/plain": [
       "Batches:   0%|          | 0/1 [00:00<?, ?it/s]"
      ]
     },
     "metadata": {},
     "output_type": "display_data"
    },
    {
     "data": {
      "application/vnd.jupyter.widget-view+json": {
       "model_id": "ef791b78c9be41968214413237e3d2be",
       "version_major": 2,
       "version_minor": 0
      },
      "text/plain": [
       "Batches:   0%|          | 0/1 [00:00<?, ?it/s]"
      ]
     },
     "metadata": {},
     "output_type": "display_data"
    },
    {
     "data": {
      "application/vnd.jupyter.widget-view+json": {
       "model_id": "516683ae82e34072a6118180eb0026b6",
       "version_major": 2,
       "version_minor": 0
      },
      "text/plain": [
       "Batches:   0%|          | 0/1 [00:00<?, ?it/s]"
      ]
     },
     "metadata": {},
     "output_type": "display_data"
    },
    {
     "data": {
      "application/vnd.jupyter.widget-view+json": {
       "model_id": "7c0c606f814548388d98597b1a09f132",
       "version_major": 2,
       "version_minor": 0
      },
      "text/plain": [
       "Batches:   0%|          | 0/1 [00:00<?, ?it/s]"
      ]
     },
     "metadata": {},
     "output_type": "display_data"
    },
    {
     "data": {
      "application/vnd.jupyter.widget-view+json": {
       "model_id": "65e9c7a3809d4956bd371b2913f40157",
       "version_major": 2,
       "version_minor": 0
      },
      "text/plain": [
       "Batches:   0%|          | 0/1 [00:00<?, ?it/s]"
      ]
     },
     "metadata": {},
     "output_type": "display_data"
    },
    {
     "data": {
      "application/vnd.jupyter.widget-view+json": {
       "model_id": "9b9b1d139f8946a5ba83861b7dcf1e4e",
       "version_major": 2,
       "version_minor": 0
      },
      "text/plain": [
       "Batches:   0%|          | 0/1 [00:00<?, ?it/s]"
      ]
     },
     "metadata": {},
     "output_type": "display_data"
    },
    {
     "data": {
      "application/vnd.jupyter.widget-view+json": {
       "model_id": "4fc1972ab7e14ffa9febd87a93351c10",
       "version_major": 2,
       "version_minor": 0
      },
      "text/plain": [
       "Batches:   0%|          | 0/1 [00:00<?, ?it/s]"
      ]
     },
     "metadata": {},
     "output_type": "display_data"
    },
    {
     "data": {
      "application/vnd.jupyter.widget-view+json": {
       "model_id": "ece1dfc510ac430d8d1b597f9f4bcee4",
       "version_major": 2,
       "version_minor": 0
      },
      "text/plain": [
       "Batches:   0%|          | 0/1 [00:00<?, ?it/s]"
      ]
     },
     "metadata": {},
     "output_type": "display_data"
    },
    {
     "data": {
      "application/vnd.jupyter.widget-view+json": {
       "model_id": "393e328d06d545d484d2f90a28be39a0",
       "version_major": 2,
       "version_minor": 0
      },
      "text/plain": [
       "Batches:   0%|          | 0/1 [00:00<?, ?it/s]"
      ]
     },
     "metadata": {},
     "output_type": "display_data"
    },
    {
     "data": {
      "application/vnd.jupyter.widget-view+json": {
       "model_id": "1cd5309787fc4944bf79b4312ed24bb7",
       "version_major": 2,
       "version_minor": 0
      },
      "text/plain": [
       "Batches:   0%|          | 0/1 [00:00<?, ?it/s]"
      ]
     },
     "metadata": {},
     "output_type": "display_data"
    },
    {
     "data": {
      "application/vnd.jupyter.widget-view+json": {
       "model_id": "ae314226c4604f82b274a6bb8a41ade1",
       "version_major": 2,
       "version_minor": 0
      },
      "text/plain": [
       "Batches:   0%|          | 0/1 [00:00<?, ?it/s]"
      ]
     },
     "metadata": {},
     "output_type": "display_data"
    },
    {
     "data": {
      "application/vnd.jupyter.widget-view+json": {
       "model_id": "97e42d62c5ca43c3be9bd86cdaa19f2a",
       "version_major": 2,
       "version_minor": 0
      },
      "text/plain": [
       "Batches:   0%|          | 0/1 [00:00<?, ?it/s]"
      ]
     },
     "metadata": {},
     "output_type": "display_data"
    },
    {
     "data": {
      "application/vnd.jupyter.widget-view+json": {
       "model_id": "1c223d5bfa344d45b4cbc22b8a5249e0",
       "version_major": 2,
       "version_minor": 0
      },
      "text/plain": [
       "Batches:   0%|          | 0/1 [00:00<?, ?it/s]"
      ]
     },
     "metadata": {},
     "output_type": "display_data"
    },
    {
     "data": {
      "application/vnd.jupyter.widget-view+json": {
       "model_id": "16921f142fd1473298de06cbef2ff650",
       "version_major": 2,
       "version_minor": 0
      },
      "text/plain": [
       "Batches:   0%|          | 0/1 [00:00<?, ?it/s]"
      ]
     },
     "metadata": {},
     "output_type": "display_data"
    },
    {
     "data": {
      "application/vnd.jupyter.widget-view+json": {
       "model_id": "fac33208a8b043e2a9e39b2fe37e1602",
       "version_major": 2,
       "version_minor": 0
      },
      "text/plain": [
       "Batches:   0%|          | 0/1 [00:00<?, ?it/s]"
      ]
     },
     "metadata": {},
     "output_type": "display_data"
    },
    {
     "data": {
      "application/vnd.jupyter.widget-view+json": {
       "model_id": "ee2d2982323e471a83da00d1a5a511e3",
       "version_major": 2,
       "version_minor": 0
      },
      "text/plain": [
       "Batches:   0%|          | 0/1 [00:00<?, ?it/s]"
      ]
     },
     "metadata": {},
     "output_type": "display_data"
    },
    {
     "data": {
      "application/vnd.jupyter.widget-view+json": {
       "model_id": "3be0b4aa4f804601831437e1e9c5bd48",
       "version_major": 2,
       "version_minor": 0
      },
      "text/plain": [
       "Batches:   0%|          | 0/1 [00:00<?, ?it/s]"
      ]
     },
     "metadata": {},
     "output_type": "display_data"
    },
    {
     "data": {
      "application/vnd.jupyter.widget-view+json": {
       "model_id": "11e0fef37059420291d72412d9bb2aa5",
       "version_major": 2,
       "version_minor": 0
      },
      "text/plain": [
       "Batches:   0%|          | 0/1 [00:00<?, ?it/s]"
      ]
     },
     "metadata": {},
     "output_type": "display_data"
    },
    {
     "data": {
      "application/vnd.jupyter.widget-view+json": {
       "model_id": "b4ed918f757d496ab67d4dbc6d97937d",
       "version_major": 2,
       "version_minor": 0
      },
      "text/plain": [
       "Batches:   0%|          | 0/1 [00:00<?, ?it/s]"
      ]
     },
     "metadata": {},
     "output_type": "display_data"
    },
    {
     "data": {
      "application/vnd.jupyter.widget-view+json": {
       "model_id": "3ef6020d7e6a405fa56811f3fbe1c90b",
       "version_major": 2,
       "version_minor": 0
      },
      "text/plain": [
       "Batches:   0%|          | 0/1 [00:00<?, ?it/s]"
      ]
     },
     "metadata": {},
     "output_type": "display_data"
    },
    {
     "data": {
      "application/vnd.jupyter.widget-view+json": {
       "model_id": "707cf52cc71d4a2ba0429bbeaa9cca70",
       "version_major": 2,
       "version_minor": 0
      },
      "text/plain": [
       "Batches:   0%|          | 0/1 [00:00<?, ?it/s]"
      ]
     },
     "metadata": {},
     "output_type": "display_data"
    },
    {
     "data": {
      "application/vnd.jupyter.widget-view+json": {
       "model_id": "34da4e4effe6419d893ccf41f0fd9b41",
       "version_major": 2,
       "version_minor": 0
      },
      "text/plain": [
       "Batches:   0%|          | 0/1 [00:00<?, ?it/s]"
      ]
     },
     "metadata": {},
     "output_type": "display_data"
    },
    {
     "data": {
      "application/vnd.jupyter.widget-view+json": {
       "model_id": "3213cc735d6345d9b853fb98de405d4a",
       "version_major": 2,
       "version_minor": 0
      },
      "text/plain": [
       "Batches:   0%|          | 0/1 [00:00<?, ?it/s]"
      ]
     },
     "metadata": {},
     "output_type": "display_data"
    },
    {
     "data": {
      "application/vnd.jupyter.widget-view+json": {
       "model_id": "d7000f87599d4e85aa20d5dfff47c8b5",
       "version_major": 2,
       "version_minor": 0
      },
      "text/plain": [
       "Batches:   0%|          | 0/1 [00:00<?, ?it/s]"
      ]
     },
     "metadata": {},
     "output_type": "display_data"
    },
    {
     "data": {
      "application/vnd.jupyter.widget-view+json": {
       "model_id": "58dabfa19ff24c55a6acd00fcedd62dc",
       "version_major": 2,
       "version_minor": 0
      },
      "text/plain": [
       "Batches:   0%|          | 0/1 [00:00<?, ?it/s]"
      ]
     },
     "metadata": {},
     "output_type": "display_data"
    },
    {
     "data": {
      "application/vnd.jupyter.widget-view+json": {
       "model_id": "30db0b6b17364eb4a52d526fb1e809e4",
       "version_major": 2,
       "version_minor": 0
      },
      "text/plain": [
       "Batches:   0%|          | 0/1 [00:00<?, ?it/s]"
      ]
     },
     "metadata": {},
     "output_type": "display_data"
    },
    {
     "data": {
      "application/vnd.jupyter.widget-view+json": {
       "model_id": "b0168c64417a45f7833491bf51f187d1",
       "version_major": 2,
       "version_minor": 0
      },
      "text/plain": [
       "Batches:   0%|          | 0/1 [00:00<?, ?it/s]"
      ]
     },
     "metadata": {},
     "output_type": "display_data"
    },
    {
     "data": {
      "application/vnd.jupyter.widget-view+json": {
       "model_id": "c4471cc79b5d4a0ba2dcc24369b2e47e",
       "version_major": 2,
       "version_minor": 0
      },
      "text/plain": [
       "Batches:   0%|          | 0/1 [00:00<?, ?it/s]"
      ]
     },
     "metadata": {},
     "output_type": "display_data"
    },
    {
     "data": {
      "application/vnd.jupyter.widget-view+json": {
       "model_id": "4afdee80e285403eb3db229b184c71ec",
       "version_major": 2,
       "version_minor": 0
      },
      "text/plain": [
       "Batches:   0%|          | 0/1 [00:00<?, ?it/s]"
      ]
     },
     "metadata": {},
     "output_type": "display_data"
    },
    {
     "data": {
      "application/vnd.jupyter.widget-view+json": {
       "model_id": "66c3a447bf0748c4a1eb54cc7653dcca",
       "version_major": 2,
       "version_minor": 0
      },
      "text/plain": [
       "Batches:   0%|          | 0/1 [00:00<?, ?it/s]"
      ]
     },
     "metadata": {},
     "output_type": "display_data"
    },
    {
     "data": {
      "application/vnd.jupyter.widget-view+json": {
       "model_id": "427b8b90bbe6418da4e11b76d7c43ccd",
       "version_major": 2,
       "version_minor": 0
      },
      "text/plain": [
       "Batches:   0%|          | 0/1 [00:00<?, ?it/s]"
      ]
     },
     "metadata": {},
     "output_type": "display_data"
    },
    {
     "data": {
      "application/vnd.jupyter.widget-view+json": {
       "model_id": "f1a712fd44ea4ab38eadd39c2e52a4f3",
       "version_major": 2,
       "version_minor": 0
      },
      "text/plain": [
       "Batches:   0%|          | 0/1 [00:00<?, ?it/s]"
      ]
     },
     "metadata": {},
     "output_type": "display_data"
    },
    {
     "data": {
      "application/vnd.jupyter.widget-view+json": {
       "model_id": "e126b56f0437416a94206834cd0e48f4",
       "version_major": 2,
       "version_minor": 0
      },
      "text/plain": [
       "Batches:   0%|          | 0/1 [00:00<?, ?it/s]"
      ]
     },
     "metadata": {},
     "output_type": "display_data"
    },
    {
     "data": {
      "application/vnd.jupyter.widget-view+json": {
       "model_id": "7e3b795b8a484213b2d853b39ea93e00",
       "version_major": 2,
       "version_minor": 0
      },
      "text/plain": [
       "Batches:   0%|          | 0/1 [00:00<?, ?it/s]"
      ]
     },
     "metadata": {},
     "output_type": "display_data"
    },
    {
     "data": {
      "application/vnd.jupyter.widget-view+json": {
       "model_id": "3cf33f96071d4629bede179239c6cdeb",
       "version_major": 2,
       "version_minor": 0
      },
      "text/plain": [
       "Batches:   0%|          | 0/1 [00:00<?, ?it/s]"
      ]
     },
     "metadata": {},
     "output_type": "display_data"
    },
    {
     "data": {
      "application/vnd.jupyter.widget-view+json": {
       "model_id": "92f7c82cc8f448c49b72687ddb14c259",
       "version_major": 2,
       "version_minor": 0
      },
      "text/plain": [
       "Batches:   0%|          | 0/1 [00:00<?, ?it/s]"
      ]
     },
     "metadata": {},
     "output_type": "display_data"
    },
    {
     "data": {
      "application/vnd.jupyter.widget-view+json": {
       "model_id": "f7ce2405c31f48d0973079ba3abbab62",
       "version_major": 2,
       "version_minor": 0
      },
      "text/plain": [
       "Batches:   0%|          | 0/1 [00:00<?, ?it/s]"
      ]
     },
     "metadata": {},
     "output_type": "display_data"
    },
    {
     "data": {
      "application/vnd.jupyter.widget-view+json": {
       "model_id": "c0a35334d65c469aa7a83bbfc87167ec",
       "version_major": 2,
       "version_minor": 0
      },
      "text/plain": [
       "Batches:   0%|          | 0/1 [00:00<?, ?it/s]"
      ]
     },
     "metadata": {},
     "output_type": "display_data"
    },
    {
     "data": {
      "application/vnd.jupyter.widget-view+json": {
       "model_id": "02719019447f49aaa73145700614ed22",
       "version_major": 2,
       "version_minor": 0
      },
      "text/plain": [
       "Batches:   0%|          | 0/1 [00:00<?, ?it/s]"
      ]
     },
     "metadata": {},
     "output_type": "display_data"
    },
    {
     "data": {
      "application/vnd.jupyter.widget-view+json": {
       "model_id": "9df99bf545a042a79ead65a7e57561e8",
       "version_major": 2,
       "version_minor": 0
      },
      "text/plain": [
       "Batches:   0%|          | 0/1 [00:00<?, ?it/s]"
      ]
     },
     "metadata": {},
     "output_type": "display_data"
    },
    {
     "name": "stderr",
     "output_type": "stream",
     "text": [
      "2025-04-13 00:59:41,476 - INFO - Fine-tuned model results:\n",
      "2025-04-13 00:59:41,477 - INFO - Avg positive similarity: 0.4639\n",
      "2025-04-13 00:59:41,479 - INFO - Avg negative similarity: 0.0761\n",
      "2025-04-13 00:59:41,480 - INFO - Margin: 0.3878\n",
      "2025-04-13 00:59:41,481 - INFO - Generating visualization for original model...\n"
     ]
    },
    {
     "data": {
      "application/vnd.jupyter.widget-view+json": {
       "model_id": "85d742181aac40d5bd2d9326f4aa204c",
       "version_major": 2,
       "version_minor": 0
      },
      "text/plain": [
       "Batches:   0%|          | 0/2 [00:00<?, ?it/s]"
      ]
     },
     "metadata": {},
     "output_type": "display_data"
    },
    {
     "name": "stderr",
     "output_type": "stream",
     "text": [
      "2025-04-13 00:59:43,243 - INFO - Generating visualization for fine-tuned model...\n"
     ]
    },
    {
     "data": {
      "application/vnd.jupyter.widget-view+json": {
       "model_id": "d34aad9d95934cfdb6e5f3a8ba1ba6a2",
       "version_major": 2,
       "version_minor": 0
      },
      "text/plain": [
       "Batches:   0%|          | 0/2 [00:00<?, ?it/s]"
      ]
     },
     "metadata": {},
     "output_type": "display_data"
    },
    {
     "name": "stderr",
     "output_type": "stream",
     "text": [
      "2025-04-13 00:59:43,707 - INFO - Save model to /Users/hissain/git/github/AndroidSemanticSearch/python/exp/model/final-model\n",
      "2025-04-13 00:59:43,981 - INFO - All artifacts saved successfully\n"
     ]
    }
   ],
   "source": [
    "# %% [markdown]\n",
    "# # Fine-tuning all-MiniLM-L6-v2 for Android App Semantic Similarity\n",
    "\n",
    "# %%\n",
    "# Install required packages\n",
    "!pip install -q google-play-scraper sentence-transformers transformers torch pandas matplotlib seaborn scikit-learn tqdm\n",
    "\n",
    "# %%\n",
    "import logging\n",
    "import os\n",
    "import random\n",
    "import numpy as np\n",
    "import pandas as pd\n",
    "import torch\n",
    "import matplotlib.pyplot as plt\n",
    "import seaborn as sns\n",
    "from tqdm.auto import tqdm\n",
    "from pathlib import Path\n",
    "from typing import List, Dict, Tuple\n",
    "from google_play_scraper import app, Sort, reviews_all, search\n",
    "from sentence_transformers import SentenceTransformer, InputExample, losses, models, evaluation\n",
    "from torch.utils.data import DataLoader\n",
    "from sklearn.manifold import TSNE\n",
    "from sklearn.decomposition import PCA\n",
    "from sklearn.metrics.pairwise import cosine_similarity\n",
    "from sklearn.preprocessing import LabelEncoder\n",
    "\n",
    "# Setup logging\n",
    "logging.basicConfig(\n",
    "    level=logging.INFO,\n",
    "    format='%(asctime)s - %(levelname)s - %(message)s'\n",
    ")\n",
    "logger = logging.getLogger(__name__)\n",
    "\n",
    "# Set seeds for reproducibility\n",
    "SEED = 42\n",
    "random.seed(SEED)\n",
    "np.random.seed(SEED)\n",
    "torch.manual_seed(SEED)\n",
    "torch.cuda.manual_seed_all(SEED)\n",
    "\n",
    "# Configuration\n",
    "BASE_DIR = Path(\".\").resolve()\n",
    "DATA_DIR = BASE_DIR / \"data\"\n",
    "MODEL_DIR = BASE_DIR / \"model\"\n",
    "PLOTS_DIR = BASE_DIR / \"plots\"\n",
    "\n",
    "# Create directories\n",
    "DATA_DIR.mkdir(exist_ok=True)\n",
    "MODEL_DIR.mkdir(exist_ok=True)\n",
    "PLOTS_DIR.mkdir(exist_ok=True)\n",
    "\n",
    "# Constants\n",
    "CATEGORIES = ['GAME_ACTION', 'TRAVEL_AND_LOCAL', 'SHOPPING', 'SOCIAL', 'EDUCATION']  # Example categories\n",
    "NUM_APPS_PER_CATEGORY = 50  # Reduced for demonstration\n",
    "TRIPLET_BATCH_SIZE = 16\n",
    "NUM_EPOCHS = 3\n",
    "MODEL_NAME = '../model/all-MiniLM-L6-v2'\n",
    "\n",
    "# %% [markdown]\n",
    "# ## Dataset Collection\n",
    "\n",
    "# %%\n",
    "def scrape_google_play_apps(categories: List[str], num_apps: int) -> pd.DataFrame:\n",
    "    \"\"\"Scrape app data from Google Play Store using search.\"\"\"\n",
    "    apps = []\n",
    "    \n",
    "    for category in tqdm(categories, desc=\"Scraping categories\"):\n",
    "        try:\n",
    "            # Search for apps in category\n",
    "            results = search(\n",
    "                query=category,\n",
    "                lang='en',\n",
    "                country='us',\n",
    "                n_hits=num_apps,\n",
    "                # sort=Sort.MOST_RELEVANT\n",
    "            )\n",
    "            \n",
    "            # Fetch details for each app\n",
    "            for result in tqdm(results, desc=f\"Processing {category}\", leave=False):\n",
    "                try:\n",
    "                    app_details = app(\n",
    "                        app_id=result['appId'],\n",
    "                        lang='en',\n",
    "                        country='us'\n",
    "                    )\n",
    "                    apps.append({\n",
    "                        'app_name': app_details.get('title', ''),\n",
    "                        'category': category,\n",
    "                        'description': app_details.get('summary', ''),\n",
    "                        'app_id': result['appId']\n",
    "                    })\n",
    "                except Exception as e:\n",
    "                    logger.error(f\"Error fetching app {result['appId']}: {str(e)}\")\n",
    "                    continue\n",
    "        except Exception as e:\n",
    "            logger.error(f\"Error processing category {category}: {str(e)}\")\n",
    "            continue\n",
    "    \n",
    "    df = pd.DataFrame(apps)\n",
    "    # Keep previous cleaning and filtering code\n",
    "    \n",
    "    return df\n",
    "\n",
    "# %%\n",
    "# Scrape or load cached data\n",
    "dataset_path = DATA_DIR / \"google_play_apps.csv\"\n",
    "if not dataset_path.exists():\n",
    "    logger.info(\"Starting data scraping...\")\n",
    "    df_apps = scrape_google_play_apps(CATEGORIES, NUM_APPS_PER_CATEGORY)\n",
    "    df_apps.to_csv(dataset_path, index=False)\n",
    "else:\n",
    "    logger.info(\"Loading cached dataset...\")\n",
    "    df_apps = pd.read_csv(dataset_path)\n",
    "\n",
    "logger.info(f\"Total apps collected: {len(df_apps)}\")\n",
    "logger.info(f\"Categories distribution:\\n{df_apps['category'].value_counts()}\")\n",
    "\n",
    "# %% [markdown]\n",
    "# ## Triplet Dataset Creation\n",
    "\n",
    "# %%\n",
    "def generate_triplets(df: pd.DataFrame) -> List[InputExample]:\n",
    "    \"\"\"Generate triplets for contrastive learning.\"\"\"\n",
    "    triplets = []\n",
    "    grouped = df.groupby('category')\n",
    "    category_apps = {cat: grp['app_name'].tolist() for cat, grp in grouped}\n",
    "    \n",
    "    # Generate triplets for each category\n",
    "    for category, apps in tqdm(category_apps.items(), desc=\"Generating triplets\"):\n",
    "        other_categories = [c for c in category_apps.keys() if c != category]\n",
    "        \n",
    "        for anchor in apps:\n",
    "            # Find positive sample (same category)\n",
    "            positives = [app for app in apps if app != anchor]\n",
    "            if not positives:\n",
    "                continue\n",
    "            \n",
    "            # Find negative sample (different category)\n",
    "            negative_category = np.random.choice(other_categories)\n",
    "            negatives = category_apps[negative_category]\n",
    "            if not negatives:\n",
    "                continue\n",
    "            \n",
    "            # Create triplet\n",
    "            positive = np.random.choice(positives)\n",
    "            negative = np.random.choice(negatives)\n",
    "            triplets.append(InputExample(\n",
    "                texts=[anchor, positive, negative]\n",
    "            ))\n",
    "    \n",
    "    return triplets\n",
    "\n",
    "# %%\n",
    "# Generate or load triplets\n",
    "triplet_path = DATA_DIR / \"triplets.pt\"\n",
    "if not triplet_path.exists():\n",
    "    logger.info(\"Generating triplets...\")\n",
    "    triplets = generate_triplets(df_apps)\n",
    "    torch.save(triplets, triplet_path)\n",
    "else:\n",
    "    logger.info(\"Loading cached triplets...\")\n",
    "    triplets = torch.load(triplet_path)\n",
    "\n",
    "logger.info(f\"Total triplets generated: {len(triplets)}\")\n",
    "\n",
    "# Split train/test\n",
    "train_size = int(0.9 * len(triplets))\n",
    "train_triplets = triplets[:train_size]\n",
    "test_triplets = triplets[train_size:]\n",
    "\n",
    "# %% [markdown]\n",
    "# ## Model Setup\n",
    "\n",
    "# %%\n",
    "# Initialize model\n",
    "model = SentenceTransformer(MODEL_NAME)\n",
    "original_model = SentenceTransformer(MODEL_NAME)  # Keep original for comparison\n",
    "\n",
    "# Create dataloader\n",
    "train_dataloader = DataLoader(train_triplets, shuffle=True, batch_size=TRIPLET_BATCH_SIZE)\n",
    "train_loss = losses.TripletLoss(model=model)\n",
    "\n",
    "# %% [markdown]\n",
    "# ## Fine-tuning\n",
    "\n",
    "# %%\n",
    "# Training configuration\n",
    "warmup_steps = len(train_dataloader) // 10  # 10% of total steps\n",
    "\n",
    "logger.info(\"Starting training...\")\n",
    "model.fit(\n",
    "    train_objectives=[(train_dataloader, train_loss)],\n",
    "    epochs=NUM_EPOCHS,\n",
    "    warmup_steps=warmup_steps,\n",
    "    output_path=str(MODEL_DIR / \"fine-tuned-model\"),\n",
    "    show_progress_bar=True\n",
    ")\n",
    "logger.info(\"Training completed\")\n",
    "\n",
    "# %% [markdown]\n",
    "# ## Evaluation\n",
    "\n",
    "# %%\n",
    "def evaluate_model(model: SentenceTransformer, test_triplets: List[InputExample]) -> Dict:\n",
    "    \"\"\"Evaluate model performance on test triplets.\"\"\"\n",
    "    similarities = {'anchor_positive': [], 'anchor_negative': []}\n",
    "    \n",
    "    for example in tqdm(test_triplets, desc=\"Evaluating\"):\n",
    "        anchor = model.encode(example.texts[0], convert_to_tensor=True)\n",
    "        positive = model.encode(example.texts[1], convert_to_tensor=True)\n",
    "        negative = model.encode(example.texts[2], convert_to_tensor=True)\n",
    "        \n",
    "        similarities['anchor_positive'].append(\n",
    "            cosine_similarity(anchor.unsqueeze(0), positive.unsqueeze(0)).item()\n",
    "        )\n",
    "        similarities['anchor_negative'].append(\n",
    "            cosine_similarity(anchor.unsqueeze(0), negative.unsqueeze(0)).item()\n",
    "        )\n",
    "    \n",
    "    return {\n",
    "        'avg_positive_sim': np.mean(similarities['anchor_positive']),\n",
    "        'avg_negative_sim': np.mean(similarities['anchor_negative']),\n",
    "        'margin': np.mean(similarities['anchor_positive']) - np.mean(similarities['anchor_negative'])\n",
    "    }\n",
    "\n",
    "# %%\n",
    "# Evaluate both models\n",
    "logger.info(\"Evaluating original model...\")\n",
    "original_results = evaluate_model(original_model, test_triplets)\n",
    "logger.info(\"Original model results:\")\n",
    "logger.info(f\"Avg positive similarity: {original_results['avg_positive_sim']:.4f}\")\n",
    "logger.info(f\"Avg negative similarity: {original_results['avg_negative_sim']:.4f}\")\n",
    "logger.info(f\"Margin: {original_results['margin']:.4f}\")\n",
    "\n",
    "logger.info(\"Evaluating fine-tuned model...\")\n",
    "fine_tuned_results = evaluate_model(model, test_triplets)\n",
    "logger.info(\"Fine-tuned model results:\")\n",
    "logger.info(f\"Avg positive similarity: {fine_tuned_results['avg_positive_sim']:.4f}\")\n",
    "logger.info(f\"Avg negative similarity: {fine_tuned_results['avg_negative_sim']:.4f}\")\n",
    "logger.info(f\"Margin: {fine_tuned_results['margin']:.4f}\")\n",
    "\n",
    "# %% [markdown]\n",
    "# ## Visualization\n",
    "\n",
    "# %%\n",
    "def plot_embeddings(model: SentenceTransformer, df: pd.DataFrame, title: str, filename: str):\n",
    "    \"\"\"Visualize embeddings using PCA.\"\"\"\n",
    "    sample_df = df.groupby('category').sample(n=10, random_state=SEED)  # Sample 10 per category\n",
    "    texts = sample_df['app_name'].tolist()\n",
    "    categories = sample_df['category'].tolist()\n",
    "    \n",
    "    # Encode texts\n",
    "    embeddings = model.encode(texts, show_progress_bar=True)\n",
    "    \n",
    "    # Reduce dimensionality\n",
    "    pca = PCA(n_components=2)\n",
    "    embeddings_2d = pca.fit_transform(embeddings)\n",
    "    \n",
    "    # Create plot\n",
    "    plt.figure(figsize=(10, 8))\n",
    "    sns.scatterplot(\n",
    "        x=embeddings_2d[:, 0],\n",
    "        y=embeddings_2d[:, 1],\n",
    "        hue=categories,\n",
    "        palette=\"tab10\",\n",
    "        alpha=0.8,\n",
    "        s=100\n",
    "    )\n",
    "    plt.title(title)\n",
    "    plt.savefig(PLOTS_DIR / filename, bbox_inches='tight')\n",
    "    plt.close()\n",
    "\n",
    "# %%\n",
    "# Generate visualizations\n",
    "logger.info(\"Generating visualization for original model...\")\n",
    "plot_embeddings(\n",
    "    original_model,\n",
    "    df_apps,\n",
    "    \"Original Model Embeddings (PCA)\",\n",
    "    \"original_embeddings.png\"\n",
    ")\n",
    "\n",
    "logger.info(\"Generating visualization for fine-tuned model...\")\n",
    "plot_embeddings(\n",
    "    model,\n",
    "    df_apps,\n",
    "    \"Fine-tuned Model Embeddings (PCA)\",\n",
    "    \"fine_tuned_embeddings.png\"\n",
    ")\n",
    "\n",
    "# %% [markdown]\n",
    "# ## Save Artifacts\n",
    "\n",
    "# %%\n",
    "# Save final model\n",
    "model.save(str(MODEL_DIR / \"final-model\"))\n",
    "\n",
    "# Save evaluation results\n",
    "results_df = pd.DataFrame([original_results, fine_tuned_results], index=['original', 'fine-tuned'])\n",
    "results_df.to_csv(DATA_DIR / \"evaluation_results.csv\")\n",
    "\n",
    "logger.info(\"All artifacts saved successfully\")"
   ]
  }
 ],
 "metadata": {
  "kernelspec": {
   "display_name": ".venv",
   "language": "python",
   "name": "python3"
  },
  "language_info": {
   "codemirror_mode": {
    "name": "ipython",
    "version": 3
   },
   "file_extension": ".py",
   "mimetype": "text/x-python",
   "name": "python",
   "nbconvert_exporter": "python",
   "pygments_lexer": "ipython3",
   "version": "3.11.0"
  }
 },
 "nbformat": 4,
 "nbformat_minor": 2
}
